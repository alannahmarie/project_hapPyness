{
 "cells": [
  {
   "cell_type": "markdown",
   "metadata": {},
   "source": [
    "   # hapPyness: Project One \n",
    " Team Boa \n",
    "       (Aashita, \n",
    "       Alannah,\n",
    "       Ben,\n",
    "       and Brian)"
   ]
  },
  {
   "cell_type": "markdown",
   "metadata": {},
   "source": [
    "Charles Schulz once said that “happiness is a warm puppy”. According to Walt Disney, “happiness is a state of mind” and author, Tom Bodett, offered that \"a person needs just three things to be truly happy in this world: Someone to love, something to do, and something to hope for.” For many, happiness is hard to quantify. However, in 2012 the first World Happiness Report was published based on Gallup poll data. This report uses six factors to measure happiness: economic production, social support, life expectancy, freedom, absence of corruption, and generosity. (Tom may have been on to something.)\n",
    "\n",
    "Our team will be analyzing this data to determine correlations between metrics (such as the relationship between GDP per capita and the happiness index, and life expectancy vs freedom) and across years. We will also focus on the position of the United States on the list, seeing just how we measure up to the happiest and uphappiest nations to start, then going on to further analyze the metrics to see what story they tell. It will also be interesting to see how 2020 measures up to years prior, considering the Covid-19 pandemic, widespread social unrest, and the general consensus that it was a lemon of a year."
   ]
  },
  {
   "cell_type": "code",
   "execution_count": 10,
   "metadata": {},
   "outputs": [],
   "source": [
    "# Import dependencies\n",
    "import pandas as pd\n",
    "import matplotlib.pyplot as plt\n",
    "import numpy as np\n",
    "from scipy.stats import linregress"
   ]
  },
  {
   "cell_type": "code",
   "execution_count": 12,
   "metadata": {},
   "outputs": [],
   "source": [
    "# Store csv file paths in variables\n",
    "data_2015 = \"data_files/2015.csv\"\n",
    "data_2016 = \"data_files/2016.csv\"\n",
    "data_2017 = \"data_files/2017.csv\"\n",
    "data_2018 = \"data_files/2018.csv\"\n",
    "data_2019 = \"data_files/2019.csv\"\n",
    "data_2020 = \"data_files/2020.csv\""
   ]
  },
  {
   "cell_type": "code",
   "execution_count": 13,
   "metadata": {},
   "outputs": [],
   "source": [
    "# Import data from csv files\n",
    "data_2015_df = pd.read_csv(data_2015)\n",
    "data_2016_df = pd.read_csv(data_2016)\n",
    "data_2017_df = pd.read_csv(data_2017)\n",
    "data_2018_df = pd.read_csv(data_2018)\n",
    "data_2019_df = pd.read_csv(data_2019)\n",
    "data_2020_df = pd.read_csv(data_2020)"
   ]
  },
  {
   "cell_type": "code",
   "execution_count": 4,
   "metadata": {},
   "outputs": [
    {
     "data": {
      "text/plain": [
       "Country                          158\n",
       "Region                           158\n",
       "Happiness Rank                   158\n",
       "Happiness Score                  158\n",
       "Standard Error                   158\n",
       "Economy (GDP per Capita)         158\n",
       "Family                           158\n",
       "Health (Life Expectancy)         158\n",
       "Freedom                          158\n",
       "Trust (Government Corruption)    158\n",
       "Generosity                       158\n",
       "Dystopia Residual                158\n",
       "dtype: int64"
      ]
     },
     "execution_count": 4,
     "metadata": {},
     "output_type": "execute_result"
    }
   ],
   "source": [
    "# Print dataframes for each data set\n",
    "data_2015_df.count()"
   ]
  },
  {
   "cell_type": "code",
   "execution_count": 5,
   "metadata": {},
   "outputs": [
    {
     "data": {
      "text/plain": [
       "Country                          157\n",
       "Region                           157\n",
       "Happiness Rank                   157\n",
       "Happiness Score                  157\n",
       "Lower Confidence Interval        157\n",
       "Upper Confidence Interval        157\n",
       "Economy (GDP per Capita)         157\n",
       "Family                           157\n",
       "Health (Life Expectancy)         157\n",
       "Freedom                          157\n",
       "Trust (Government Corruption)    157\n",
       "Generosity                       157\n",
       "Dystopia Residual                157\n",
       "dtype: int64"
      ]
     },
     "execution_count": 5,
     "metadata": {},
     "output_type": "execute_result"
    }
   ],
   "source": [
    "data_2016_df.count()"
   ]
  },
  {
   "cell_type": "code",
   "execution_count": 6,
   "metadata": {},
   "outputs": [
    {
     "data": {
      "text/plain": [
       "Country                          155\n",
       "Happiness.Rank                   155\n",
       "Happiness.Score                  155\n",
       "Whisker.high                     155\n",
       "Whisker.low                      155\n",
       "Economy..GDP.per.Capita.         155\n",
       "Family                           155\n",
       "Health..Life.Expectancy.         155\n",
       "Freedom                          155\n",
       "Generosity                       155\n",
       "Trust..Government.Corruption.    155\n",
       "Dystopia.Residual                155\n",
       "dtype: int64"
      ]
     },
     "execution_count": 6,
     "metadata": {},
     "output_type": "execute_result"
    }
   ],
   "source": [
    "data_2017_df.count()"
   ]
  },
  {
   "cell_type": "code",
   "execution_count": 7,
   "metadata": {},
   "outputs": [
    {
     "data": {
      "text/plain": [
       "Overall rank                    156\n",
       "Country or region               156\n",
       "Score                           156\n",
       "GDP per capita                  156\n",
       "Social support                  156\n",
       "Healthy life expectancy         156\n",
       "Freedom to make life choices    156\n",
       "Generosity                      156\n",
       "Perceptions of corruption       155\n",
       "dtype: int64"
      ]
     },
     "execution_count": 7,
     "metadata": {},
     "output_type": "execute_result"
    }
   ],
   "source": [
    "data_2018_df.count()"
   ]
  },
  {
   "cell_type": "code",
   "execution_count": 8,
   "metadata": {},
   "outputs": [
    {
     "data": {
      "text/plain": [
       "Overall rank                    156\n",
       "Country or region               156\n",
       "Score                           156\n",
       "GDP per capita                  156\n",
       "Social support                  156\n",
       "Healthy life expectancy         156\n",
       "Freedom to make life choices    156\n",
       "Generosity                      156\n",
       "Perceptions of corruption       156\n",
       "dtype: int64"
      ]
     },
     "execution_count": 8,
     "metadata": {},
     "output_type": "execute_result"
    }
   ],
   "source": [
    "data_2019_df.count()"
   ]
  },
  {
   "cell_type": "code",
   "execution_count": 14,
   "metadata": {},
   "outputs": [
    {
     "data": {
      "text/plain": [
       "Country name                                  153\n",
       "Regional indicator                            153\n",
       "Ladder score                                  153\n",
       "Standard error of ladder score                153\n",
       "upperwhisker                                  153\n",
       "lowerwhisker                                  153\n",
       "Logged GDP per capita                         153\n",
       "Social support                                153\n",
       "Healthy life expectancy                       153\n",
       "Freedom to make life choices                  153\n",
       "Generosity                                    153\n",
       "Perceptions of corruption                     153\n",
       "Ladder score in Dystopia                      153\n",
       "Explained by: Log GDP per capita              153\n",
       "Explained by: Social support                  153\n",
       "Explained by: Healthy life expectancy         153\n",
       "Explained by: Freedom to make life choices    153\n",
       "Explained by: Generosity                      153\n",
       "Explained by: Perceptions of corruption       153\n",
       "Dystopia + residual                           153\n",
       "dtype: int64"
      ]
     },
     "execution_count": 14,
     "metadata": {},
     "output_type": "execute_result"
    }
   ],
   "source": [
    "data_2020_df.count()"
   ]
  },
  {
   "cell_type": "code",
   "execution_count": 9,
   "metadata": {},
   "outputs": [],
   "source": [
    "# CLEANING DATA\n",
    "# -------------\n",
    "# I found the 2020 report csv, do we want to keep 2020 and drop 2015? I think 5 years is plenty. \n",
    "# Compare columns of each year's data to make sure we are working with the same metrics. \n",
    "# Rename columns consistently across each dataframe. \n",
    "# Find countries that appear in the data across all 5 years, and drop those that do not. \n",
    "# Find and include a schema in the data to decipher what each metric means/how it's calculated. \n",
    "# Discuss how to merge the data once cleaned with the team\n",
    "    # IDEAS: add a year column to each df and concat the lists together. \n",
    "    # Link for how to do this: https://pandas.pydata.org/pandas-docs/stable/user_guide/merging.html\n"
   ]
  }
 ],
 "metadata": {
  "kernelspec": {
   "display_name": "Python [conda env:PythonData] *",
   "language": "python",
   "name": "conda-env-PythonData-py"
  },
  "language_info": {
   "codemirror_mode": {
    "name": "ipython",
    "version": 3
   },
   "file_extension": ".py",
   "mimetype": "text/x-python",
   "name": "python",
   "nbconvert_exporter": "python",
   "pygments_lexer": "ipython3",
   "version": "3.6.10"
  }
 },
 "nbformat": 4,
 "nbformat_minor": 4
}
