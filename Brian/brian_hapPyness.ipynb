{
 "cells": [
  {
   "cell_type": "code",
   "execution_count": 1,
   "id": "wired-alabama",
   "metadata": {},
   "outputs": [],
   "source": [
    "#Read in csv's\n",
    "\n",
    "# Import dependencies\n",
    "import pandas as pd\n",
    "import matplotlib.pyplot as plt\n",
    "import numpy as np\n",
    "from scipy.stats import linregress\n",
    "\n"
   ]
  },
  {
   "cell_type": "code",
   "execution_count": 2,
   "id": "forced-fossil",
   "metadata": {},
   "outputs": [],
   "source": [
    "# Store csv file paths in variables\n",
    "path_2016 = \"../Resources/clean_data_2016.csv\"\n",
    "path_2017 = \"../Resources/clean_data_2017.csv\"\n",
    "path_2018 = \"../Resources/clean_data_2018.csv\"\n",
    "path_2019 = \"../Resources/clean_data_2019.csv\"\n",
    "path_2020 = \"../Resources/clean_data_2020.csv\"\n",
    "path_all_years = \"../Resources/clean_data_all_years.csv\"\n"
   ]
  },
  {
   "cell_type": "code",
   "execution_count": 3,
   "id": "cordless-moment",
   "metadata": {},
   "outputs": [],
   "source": [
    "# Import data from csv files\n",
    "clean_data_2016_df = pd.read_csv(path_2016)\n",
    "clean_data_2017_df = pd.read_csv(path_2017)\n",
    "clean_data_2018_df = pd.read_csv(path_2018)\n",
    "clean_data_2019_df = pd.read_csv(path_2019)\n",
    "clean_data_2020_df = pd.read_csv(path_2020)\n",
    "clean_data_all_years_df = pd.read_csv(path_all_years)"
   ]
  },
  {
   "cell_type": "code",
   "execution_count": null,
   "id": "guilty-fundamentals",
   "metadata": {},
   "outputs": [],
   "source": []
  }
 ],
 "metadata": {
  "kernelspec": {
   "display_name": "Python [conda env:PythonData] *",
   "language": "python",
   "name": "conda-env-PythonData-py"
  },
  "language_info": {
   "codemirror_mode": {
    "name": "ipython",
    "version": 3
   },
   "file_extension": ".py",
   "mimetype": "text/x-python",
   "name": "python",
   "nbconvert_exporter": "python",
   "pygments_lexer": "ipython3",
   "version": "3.6.10"
  }
 },
 "nbformat": 4,
 "nbformat_minor": 5
}
