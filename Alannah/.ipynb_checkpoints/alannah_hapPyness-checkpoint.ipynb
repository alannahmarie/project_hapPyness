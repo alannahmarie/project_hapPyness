{
 "cells": [
  {
   "cell_type": "markdown",
   "metadata": {},
   "source": [
    "   # hapPyness: Project One \n",
    " Team Boa \n",
    "       (Aashita, \n",
    "       Alannah,\n",
    "       Ben,\n",
    "       and Brian)"
   ]
  },
  {
   "cell_type": "markdown",
   "metadata": {},
   "source": [
    "Charles Schulz once said that “happiness is a warm puppy”. According to Walt Disney, “happiness is a state of mind” and author, Tom Bodett, offered that \"a person needs just three things to be truly happy in this world: Someone to love, something to do, and something to hope for.” For many, happiness is hard to quantify. However, in 2012 the first World Happiness Report was published based on Gallup poll data. This report uses six factors to measure happiness: economic production, social support, life expectancy, freedom, absence of corruption, and generosity. (Tom may have been on to something.)\n",
    "\n",
    "Our team will be analyzing this data to determine correlations between metrics (such as the relationship between GDP per capita and the happiness index, and life expectancy vs freedom) and across years. We will also focus on the position of the United States on the list, seeing just how we measure up to the happiest and uphappiest nations to start, then going on to further analyze the metrics to see what story they tell. It will also be interesting to see how 2020 measures up to years prior, considering the Covid-19 pandemic, widespread social unrest, and the general consensus that it was a terrible year."
   ]
  },
  {
   "cell_type": "code",
   "execution_count": 1,
   "metadata": {},
   "outputs": [],
   "source": [
    "# Import dependencies\n",
    "import pandas as pd\n",
    "import matplotlib.pyplot as plt\n",
    "import numpy as np\n",
    "from scipy.stats import linregress"
   ]
  },
  {
   "cell_type": "code",
   "execution_count": 2,
   "metadata": {},
   "outputs": [],
   "source": [
    "# Store csv file paths in variables\n",
    "path_2016 = \"../Resources/clean_data_2016.csv\"\n",
    "path_2017 = \"../Resources/clean_data_2017.csv\"\n",
    "path_2018 = \"../Resources/clean_data_2018.csv\"\n",
    "path_2019 = \"../Resources/clean_data_2019.csv\"\n",
    "path_2020 = \"../Resources/clean_data_2020.csv\"\n",
    "path_all_years = \"../Resources/clean_data_all_years.csv\""
   ]
  },
  {
   "cell_type": "code",
   "execution_count": 3,
   "metadata": {},
   "outputs": [],
   "source": [
    "# Import data from csv files\n",
    "clean_data_2016_df = pd.read_csv(path_2016)\n",
    "clean_data_2017_df = pd.read_csv(path_2017)\n",
    "clean_data_2018_df = pd.read_csv(path_2018)\n",
    "clean_data_2019_df = pd.read_csv(path_2019)\n",
    "clean_data_2020_df = pd.read_csv(path_2020)\n",
    "clean_data_all_years_df = pd.read_csv(path_all_years)"
   ]
  }
 ],
 "metadata": {
  "kernelspec": {
   "display_name": "Python [conda env:PythonData] *",
   "language": "python",
   "name": "conda-env-PythonData-py"
  },
  "language_info": {
   "codemirror_mode": {
    "name": "ipython",
    "version": 3
   },
   "file_extension": ".py",
   "mimetype": "text/x-python",
   "name": "python",
   "nbconvert_exporter": "python",
   "pygments_lexer": "ipython3",
   "version": "3.6.10"
  }
 },
 "nbformat": 4,
 "nbformat_minor": 4
}
